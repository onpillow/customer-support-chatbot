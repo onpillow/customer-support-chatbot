{
 "cells": [
  {
   "cell_type": "code",
   "execution_count": 1,
   "id": "ab697d40-3243-467c-b4d8-17a9d47c604f",
   "metadata": {},
   "outputs": [],
   "source": [
    "import getpass\n",
    "import os\n",
    "import pandas as pd\n",
    "from langchain_community.vectorstores import Chroma\n",
    "from langchain_core.documents import Document\n",
    "from langchain_openai import OpenAIEmbeddings\n",
    "from langchain.chains.query_constructor.base import AttributeInfo\n",
    "from langchain.retrievers.self_query.base import SelfQueryRetriever\n",
    "from langchain_openai import OpenAI\n",
    "import csv\n",
    "from datetime import datetime"
   ]
  },
  {
   "cell_type": "code",
   "execution_count": 2,
   "id": "5a9e0ff3-9d6a-405a-a343-345e2b6c8c7c",
   "metadata": {},
   "outputs": [],
   "source": [
    "openai_api_key = os.getenv('OPENAI_API_KEY')"
   ]
  },
  {
   "cell_type": "markdown",
   "id": "8564b119-9908-44a8-aa9e-32ad760fa92a",
   "metadata": {},
   "source": [
    "## Generate Document"
   ]
  },
  {
   "cell_type": "code",
   "execution_count": 3,
   "id": "8b55f71c-fc3e-4d8b-a863-f23100f1fc40",
   "metadata": {},
   "outputs": [],
   "source": [
    "# Function to convert data types based on the column\n",
    "def convert_data(value, column):\n",
    "    if column in ['Refund Requested', 'Notification Status']:\n",
    "        return value.lower() in ['true', '1', 't', 'yes']\n",
    "    elif column in ['Tracking Number']:\n",
    "        return int(value) if value else 0  # Default to 0 if None\n",
    "    elif column in ['Shipment Date', 'Expected Delivery Date', 'Delivery Date', 'Order Date', 'Refund Date']:\n",
    "        if value:\n",
    "            date = datetime.strptime(value, '%Y-%m-%d')\n",
    "            return {\"year\": date.year, \"month\": date.month, \"day\": date.day}\n",
    "        else:\n",
    "            return {\"year\": 0, \"month\": 0, \"day\": 0}  # Default to 0 if None\n",
    "    else:\n",
    "        return value if value is not None else \"\"  # Default to empty string if None\n",
    "\n",
    "# Load the mock dataset\n",
    "df = pd.read_csv('data/mock_dataset.csv')\n",
    "\n",
    "# Define the columns we want to embed vs which ones we want in metadata\n",
    "columns_to_embed = [\"Product\", \"Description\"]\n",
    "columns_to_metadata = ['Order ID', 'Tracking Number', 'Shipment Date',\n",
    "                       'Expected Delivery Date', 'Delivery Date', 'Status', 'Customer ID',\n",
    "                       'Customer Name', 'Customer Email', 'Customer Phone', 'Order Date',\n",
    "                       'Refund Requested', 'Refund Reason', 'Refund Status', 'Refund Date',\n",
    "                       'Notification Status']"
   ]
  },
  {
   "cell_type": "code",
   "execution_count": 4,
   "id": "5082522d-cd93-4201-834f-fe76be3f149c",
   "metadata": {},
   "outputs": [
    {
     "data": {
      "text/plain": [
       "Document(page_content='Product: Designer Eyeglasses\\nDescription: Indie-style frames, ideal for the modern thinker.', metadata={'Order ID': 'ORD1000', 'Tracking Number': 123456789, 'Shipment Date year': 2024, 'Shipment Date month': 5, 'Shipment Date day': 10, 'Expected Delivery Date year': 2024, 'Expected Delivery Date month': 5, 'Expected Delivery Date day': 19, 'Delivery Date year': 2024, 'Delivery Date month': 5, 'Delivery Date day': 28, 'Status': 'cancel', 'Customer ID': 'CUST1000', 'Customer Name': 'William Ramirez', 'Customer Email': 'dana83@example.com', 'Customer Phone': '408.218.3405', 'Order Date year': 2024, 'Order Date month': 3, 'Order Date day': 27, 'Refund Requested': True, 'Refund Reason': 'Damaged Item', 'Refund Status': 'approved', 'Refund Date year': 2024, 'Refund Date month': 6, 'Refund Date day': 3, 'Notification Status': False})"
      ]
     },
     "execution_count": 4,
     "metadata": {},
     "output_type": "execute_result"
    }
   ],
   "source": [
    "docs = []\n",
    "with open('data/mock_dataset.csv', newline=\"\", encoding='utf-8-sig') as csvfile:\n",
    "    csv_reader = csv.DictReader(csvfile)\n",
    "    for i, row in enumerate(csv_reader):\n",
    "        # Convert all metadata to the appropriate types\n",
    "        metadata = {}\n",
    "        for col in columns_to_metadata:\n",
    "            if col in ['Shipment Date', 'Expected Delivery Date', 'Delivery Date', 'Order Date', 'Refund Date']:\n",
    "                date_info = convert_data(row[col], col)\n",
    "                for date_part in ['year', 'month', 'day']:\n",
    "                    metadata[col + \" \" + date_part] = date_info[date_part]  # Append year, month, day separately\n",
    "            else:\n",
    "                metadata[col] = convert_data(row[col], col)\n",
    "\n",
    "        values_to_embed = {k: row[k].strip() for k in columns_to_embed if k in row}\n",
    "        to_embed = \"\\n\".join(f\"{k}: {v}\" for k, v in values_to_embed.items())\n",
    "        newDoc = Document(page_content=to_embed, metadata=metadata)\n",
    "        docs.append(newDoc)\n",
    "docs[0]"
   ]
  },
  {
   "cell_type": "markdown",
   "id": "9525747e-e24a-49b6-9e4c-62ca7ebf4916",
   "metadata": {},
   "source": [
    "## Delete previous ChromaDB"
   ]
  },
  {
   "cell_type": "code",
   "execution_count": 5,
   "id": "c4a9feac-65a0-4d3c-8f8c-23f94a3dccdc",
   "metadata": {
    "scrolled": true
   },
   "outputs": [],
   "source": [
    "import shutil\n",
    "\n",
    "# Delete the entire directory\n",
    "shutil.rmtree('./data/chromadb3/')\n"
   ]
  },
  {
   "cell_type": "markdown",
   "id": "0884420a-f61e-4a7d-b830-d6cd24167396",
   "metadata": {},
   "source": [
    "## Store Document to DB"
   ]
  },
  {
   "cell_type": "code",
   "execution_count": 6,
   "id": "219f3419-1ba7-45a4-9ec4-74d30c7befb5",
   "metadata": {},
   "outputs": [],
   "source": [
    "persist_directory = './data/chromadb3/'\n",
    "# Generate embeddings from documents and store in a vector database\n",
    "embeddings = OpenAIEmbeddings()\n",
    "db = Chroma.from_documents(docs, embeddings, persist_directory=persist_directory)"
   ]
  },
  {
   "cell_type": "markdown",
   "id": "d5fb894a-db1d-420b-9841-5b7398cd0b88",
   "metadata": {},
   "source": [
    "## SelfQ"
   ]
  },
  {
   "cell_type": "code",
   "execution_count": 7,
   "id": "aa68d04b-d2b8-4d7c-98d2-e3c1c093088e",
   "metadata": {},
   "outputs": [],
   "source": [
    "from config import metadata_field_info, document_content_description"
   ]
  },
  {
   "cell_type": "code",
   "execution_count": 24,
   "id": "20c10694-2ef6-4bee-ad87-6da6f6c903bb",
   "metadata": {},
   "outputs": [],
   "source": [
    "llm = OpenAI(temperature=0)\n",
    "retriever = SelfQueryRetriever.from_llm(llm, db, document_content_description, metadata_field_info, verbose=True,  enable_limit=True)"
   ]
  },
  {
   "cell_type": "code",
   "execution_count": 25,
   "id": "0893ef13-dddf-4747-9f0c-af4c0f0a10d9",
   "metadata": {},
   "outputs": [
    {
     "data": {
      "text/plain": [
       "[Document(page_content='Product: Sports Eyeglasses\\nDescription: Durable frames designed for athletic use.', metadata={'Customer Email': 'renee52@example.net', 'Customer ID': 'CUST1034', 'Customer Name': 'Joseph Stafford', 'Customer Phone': '963-748-4179x64561', 'Delivery Date day': 1, 'Delivery Date month': 5, 'Delivery Date year': 2024, 'Expected Delivery Date day': 22, 'Expected Delivery Date month': 4, 'Expected Delivery Date year': 2024, 'Notification Status': False, 'Order Date day': 19, 'Order Date month': 3, 'Order Date year': 2024, 'Order ID': 'ORD1034', 'Refund Date day': 7, 'Refund Date month': 5, 'Refund Date year': 2024, 'Refund Reason': 'Damaged Item', 'Refund Requested': True, 'Refund Status': 'approved', 'Shipment Date day': 19, 'Shipment Date month': 4, 'Shipment Date year': 2024, 'Status': 'cancel', 'Tracking Number': 123456823})]"
      ]
     },
     "execution_count": 25,
     "metadata": {},
     "output_type": "execute_result"
    }
   ],
   "source": [
    "retriever.get_relevant_documents(\"give me documentation about Customer CUST1034 \")"
   ]
  },
  {
   "cell_type": "code",
   "execution_count": 28,
   "id": "2948cb91-0cf1-41d4-8e86-c8d02588783f",
   "metadata": {},
   "outputs": [
    {
     "data": {
      "text/plain": [
       "[Document(page_content='Product: Sun Protection Eyeglasses\\nDescription: Features UV protection for sunny days.', metadata={'Customer Email': 'dananthony@example.org', 'Customer ID': 'CUST1020', 'Customer Name': 'Destiny Carter', 'Customer Phone': '+1-524-226-6732x46205', 'Delivery Date day': 30, 'Delivery Date month': 4, 'Delivery Date year': 2024, 'Expected Delivery Date day': 24, 'Expected Delivery Date month': 4, 'Expected Delivery Date year': 2024, 'Notification Status': True, 'Order Date day': 10, 'Order Date month': 4, 'Order Date year': 2024, 'Order ID': 'ORD1020', 'Refund Date day': 6, 'Refund Date month': 5, 'Refund Date year': 2024, 'Refund Reason': 'Damaged Item', 'Refund Requested': True, 'Refund Status': 'approved', 'Shipment Date day': 20, 'Shipment Date month': 4, 'Shipment Date year': 2024, 'Status': 'cancel', 'Tracking Number': 123456809}),\n",
       " Document(page_content='Product: Sports Eyeglasses\\nDescription: Durable frames designed for athletic use.', metadata={'Customer Email': 'renee52@example.net', 'Customer ID': 'CUST1034', 'Customer Name': 'Joseph Stafford', 'Customer Phone': '963-748-4179x64561', 'Delivery Date day': 1, 'Delivery Date month': 5, 'Delivery Date year': 2024, 'Expected Delivery Date day': 22, 'Expected Delivery Date month': 4, 'Expected Delivery Date year': 2024, 'Notification Status': False, 'Order Date day': 19, 'Order Date month': 3, 'Order Date year': 2024, 'Order ID': 'ORD1034', 'Refund Date day': 7, 'Refund Date month': 5, 'Refund Date year': 2024, 'Refund Reason': 'Damaged Item', 'Refund Requested': True, 'Refund Status': 'approved', 'Shipment Date day': 19, 'Shipment Date month': 4, 'Shipment Date year': 2024, 'Status': 'cancel', 'Tracking Number': 123456823}),\n",
       " Document(page_content='Product: Basic Eyeglasses\\nDescription: Simple yet stylish, perfect for daily wear.', metadata={'Customer Email': 'brianna85@example.org', 'Customer ID': 'CUST1023', 'Customer Name': 'Stephanie Scott', 'Customer Phone': '(600)966-7767', 'Delivery Date day': 29, 'Delivery Date month': 4, 'Delivery Date year': 2024, 'Expected Delivery Date day': 22, 'Expected Delivery Date month': 4, 'Expected Delivery Date year': 2024, 'Notification Status': False, 'Order Date day': 5, 'Order Date month': 4, 'Order Date year': 2024, 'Order ID': 'ORD1023', 'Refund Date day': 5, 'Refund Date month': 5, 'Refund Date year': 2024, 'Refund Reason': 'Damaged Item', 'Refund Requested': True, 'Refund Status': 'approved', 'Shipment Date day': 19, 'Shipment Date month': 4, 'Shipment Date year': 2024, 'Status': 'cancel', 'Tracking Number': 123456812})]"
      ]
     },
     "execution_count": 28,
     "metadata": {},
     "output_type": "execute_result"
    }
   ],
   "source": [
    "retriever.get_relevant_documents(\"give me 10 documentation about Status cancel, and Shipment Date year is 2024, and Shipment Date month is 4\")"
   ]
  },
  {
   "cell_type": "code",
   "execution_count": 33,
   "id": "fcfcc3f8-3d1a-4eb2-b03a-a178687cf24a",
   "metadata": {},
   "outputs": [
    {
     "data": {
      "text/plain": [
       "[Document(page_content='Product: Designer Eyeglasses\\nDescription: Indie-style frames, ideal for the modern thinker.', metadata={'Customer Email': 'craighoward@example.com', 'Customer ID': 'CUST1028', 'Customer Name': 'Emily Butler', 'Customer Phone': '(426)863-8426', 'Delivery Date day': 16, 'Delivery Date month': 5, 'Delivery Date year': 2024, 'Expected Delivery Date day': 11, 'Expected Delivery Date month': 5, 'Expected Delivery Date year': 2024, 'Notification Status': False, 'Order Date day': 27, 'Order Date month': 3, 'Order Date year': 2024, 'Order ID': 'ORD1028', 'Refund Date day': 22, 'Refund Date month': 5, 'Refund Date year': 2024, 'Refund Reason': 'Defective Item', 'Refund Requested': True, 'Refund Status': 'approved', 'Shipment Date day': 2, 'Shipment Date month': 5, 'Shipment Date year': 2024, 'Status': 'cancel', 'Tracking Number': 123456817}),\n",
       " Document(page_content='Product: Designer Eyeglasses\\nDescription: Indie-style frames, ideal for the modern thinker.', metadata={'Customer Email': 'john86@example.com', 'Customer ID': 'CUST1016', 'Customer Name': 'Tamara Irwin', 'Customer Phone': '(261)647-4385', 'Delivery Date day': 24, 'Delivery Date month': 5, 'Delivery Date year': 2024, 'Expected Delivery Date day': 17, 'Expected Delivery Date month': 5, 'Expected Delivery Date year': 2024, 'Notification Status': False, 'Order Date day': 1, 'Order Date month': 4, 'Order Date year': 2024, 'Order ID': 'ORD1016', 'Refund Date day': 31, 'Refund Date month': 5, 'Refund Date year': 2024, 'Refund Reason': 'Damaged Item', 'Refund Requested': True, 'Refund Status': 'approved', 'Shipment Date day': 7, 'Shipment Date month': 5, 'Shipment Date year': 2024, 'Status': 'cancel', 'Tracking Number': 123456805}),\n",
       " Document(page_content='Product: Sun Protection Eyeglasses\\nDescription: Features UV protection for sunny days.', metadata={'Customer Email': 'lisa66@example.net', 'Customer ID': 'CUST1015', 'Customer Name': 'Natasha Ruiz', 'Customer Phone': '+1-912-907-2765x4499', 'Delivery Date day': 23, 'Delivery Date month': 5, 'Delivery Date year': 2024, 'Expected Delivery Date day': 16, 'Expected Delivery Date month': 5, 'Expected Delivery Date year': 2024, 'Notification Status': True, 'Order Date day': 21, 'Order Date month': 3, 'Order Date year': 2024, 'Order ID': 'ORD1015', 'Refund Date day': 29, 'Refund Date month': 5, 'Refund Date year': 2024, 'Refund Reason': 'Damaged Item', 'Refund Requested': True, 'Refund Status': 'approved', 'Shipment Date day': 6, 'Shipment Date month': 5, 'Shipment Date year': 2024, 'Status': 'cancel', 'Tracking Number': 123456804}),\n",
       " Document(page_content='Product: Sun Protection Eyeglasses\\nDescription: Features UV protection for sunny days.', metadata={'Customer Email': 'dananthony@example.org', 'Customer ID': 'CUST1020', 'Customer Name': 'Destiny Carter', 'Customer Phone': '+1-524-226-6732x46205', 'Delivery Date day': 30, 'Delivery Date month': 4, 'Delivery Date year': 2024, 'Expected Delivery Date day': 24, 'Expected Delivery Date month': 4, 'Expected Delivery Date year': 2024, 'Notification Status': True, 'Order Date day': 10, 'Order Date month': 4, 'Order Date year': 2024, 'Order ID': 'ORD1020', 'Refund Date day': 6, 'Refund Date month': 5, 'Refund Date year': 2024, 'Refund Reason': 'Damaged Item', 'Refund Requested': True, 'Refund Status': 'approved', 'Shipment Date day': 20, 'Shipment Date month': 4, 'Shipment Date year': 2024, 'Status': 'cancel', 'Tracking Number': 123456809}),\n",
       " Document(page_content='Product: Sun Protection Eyeglasses\\nDescription: Features UV protection for sunny days.', metadata={'Customer Email': 'michael23@example.org', 'Customer ID': 'CUST1027', 'Customer Name': 'Kelly Schneider', 'Customer Phone': '001-848-235-9027', 'Delivery Date day': 14, 'Delivery Date month': 5, 'Delivery Date year': 2024, 'Expected Delivery Date day': 13, 'Expected Delivery Date month': 5, 'Expected Delivery Date year': 2024, 'Notification Status': True, 'Order Date day': 20, 'Order Date month': 3, 'Order Date year': 2024, 'Order ID': 'ORD1027', 'Refund Date day': 20, 'Refund Date month': 5, 'Refund Date year': 2024, 'Refund Reason': 'Damaged Item', 'Refund Requested': True, 'Refund Status': 'approved', 'Shipment Date day': 8, 'Shipment Date month': 5, 'Shipment Date year': 2024, 'Status': 'cancel', 'Tracking Number': 123456816}),\n",
       " Document(page_content='Product: Reading Eyeglasses\\nDescription: Enhanced lenses for close-up reading tasks.', metadata={'Customer Email': 'brittanyallen@example.net', 'Customer ID': 'CUST1001', 'Customer Name': 'Marie Alexander', 'Customer Phone': '001-696-591-4933x380', 'Delivery Date day': 18, 'Delivery Date month': 5, 'Delivery Date year': 2024, 'Expected Delivery Date day': 8, 'Expected Delivery Date month': 5, 'Expected Delivery Date year': 2024, 'Notification Status': True, 'Order Date day': 29, 'Order Date month': 3, 'Order Date year': 2024, 'Order ID': 'ORD1001', 'Refund Date day': 26, 'Refund Date month': 5, 'Refund Date year': 2024, 'Refund Reason': 'Damaged Item', 'Refund Requested': True, 'Refund Status': 'approved', 'Shipment Date day': 5, 'Shipment Date month': 5, 'Shipment Date year': 2024, 'Status': 'cancel', 'Tracking Number': 123456790}),\n",
       " Document(page_content='Product: Reading Eyeglasses\\nDescription: Enhanced lenses for close-up reading tasks.', metadata={'Customer Email': 'jameschen@example.net', 'Customer ID': 'CUST1003', 'Customer Name': 'Jessica Cooley', 'Customer Phone': '690-480-9975', 'Delivery Date day': 23, 'Delivery Date month': 5, 'Delivery Date year': 2024, 'Expected Delivery Date day': 16, 'Expected Delivery Date month': 5, 'Expected Delivery Date year': 2024, 'Notification Status': True, 'Order Date day': 25, 'Order Date month': 3, 'Order Date year': 2024, 'Order ID': 'ORD1003', 'Refund Date day': 30, 'Refund Date month': 5, 'Refund Date year': 2024, 'Refund Reason': 'Defective Item', 'Refund Requested': True, 'Refund Status': 'approved', 'Shipment Date day': 12, 'Shipment Date month': 5, 'Shipment Date year': 2024, 'Status': 'cancel', 'Tracking Number': 123456792}),\n",
       " Document(page_content='Product: Sports Eyeglasses\\nDescription: Durable frames designed for athletic use.', metadata={'Customer Email': 'renee52@example.net', 'Customer ID': 'CUST1034', 'Customer Name': 'Joseph Stafford', 'Customer Phone': '963-748-4179x64561', 'Delivery Date day': 1, 'Delivery Date month': 5, 'Delivery Date year': 2024, 'Expected Delivery Date day': 22, 'Expected Delivery Date month': 4, 'Expected Delivery Date year': 2024, 'Notification Status': False, 'Order Date day': 19, 'Order Date month': 3, 'Order Date year': 2024, 'Order ID': 'ORD1034', 'Refund Date day': 7, 'Refund Date month': 5, 'Refund Date year': 2024, 'Refund Reason': 'Damaged Item', 'Refund Requested': True, 'Refund Status': 'approved', 'Shipment Date day': 19, 'Shipment Date month': 4, 'Shipment Date year': 2024, 'Status': 'cancel', 'Tracking Number': 123456823}),\n",
       " Document(page_content='Product: Basic Eyeglasses\\nDescription: Simple yet stylish, perfect for daily wear.', metadata={'Customer Email': 'brianna85@example.org', 'Customer ID': 'CUST1023', 'Customer Name': 'Stephanie Scott', 'Customer Phone': '(600)966-7767', 'Delivery Date day': 29, 'Delivery Date month': 4, 'Delivery Date year': 2024, 'Expected Delivery Date day': 22, 'Expected Delivery Date month': 4, 'Expected Delivery Date year': 2024, 'Notification Status': False, 'Order Date day': 5, 'Order Date month': 4, 'Order Date year': 2024, 'Order ID': 'ORD1023', 'Refund Date day': 5, 'Refund Date month': 5, 'Refund Date year': 2024, 'Refund Reason': 'Damaged Item', 'Refund Requested': True, 'Refund Status': 'approved', 'Shipment Date day': 19, 'Shipment Date month': 4, 'Shipment Date year': 2024, 'Status': 'cancel', 'Tracking Number': 123456812})]"
      ]
     },
     "execution_count": 33,
     "metadata": {},
     "output_type": "execute_result"
    }
   ],
   "source": [
    "retriever.get_relevant_documents(\"give me 10 documentation about Status cancel, and Shipment Date year is 2024, and Refund month is May\")"
   ]
  },
  {
   "cell_type": "code",
   "execution_count": null,
   "id": "3729ab10-1165-4150-ba57-117701f201d8",
   "metadata": {},
   "outputs": [],
   "source": []
  }
 ],
 "metadata": {
  "kernelspec": {
   "display_name": "Python 3 (ipykernel)",
   "language": "python",
   "name": "python3"
  },
  "language_info": {
   "codemirror_mode": {
    "name": "ipython",
    "version": 3
   },
   "file_extension": ".py",
   "mimetype": "text/x-python",
   "name": "python",
   "nbconvert_exporter": "python",
   "pygments_lexer": "ipython3",
   "version": "3.10.12"
  }
 },
 "nbformat": 4,
 "nbformat_minor": 5
}
