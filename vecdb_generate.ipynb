{
 "cells": [
  {
   "cell_type": "code",
   "execution_count": 1,
   "id": "ab697d40-3243-467c-b4d8-17a9d47c604f",
   "metadata": {},
   "outputs": [],
   "source": [
    "import csv\n",
    "from langchain.docstore.document import Document \n",
    "from langchain.text_splitter import CharacterTextSplitter\n",
    "from langchain.embeddings import OpenAIEmbeddings\n",
    "from langchain.vectorstores import Chroma\n",
    "import pandas as pd\n",
    "import os"
   ]
  },
  {
   "cell_type": "code",
   "execution_count": 2,
   "id": "1cd50208-548a-47ba-8a6c-dbf6619030b7",
   "metadata": {},
   "outputs": [
    {
     "data": {
      "text/plain": [
       "Index(['Order ID', 'Tracking Number', 'Shipment Date',\n",
       "       'Expected Delivery Date', 'Delivery Date', 'Status', 'Customer ID',\n",
       "       'Customer Name', 'Customer Email', 'Customer Phone', 'Order Date',\n",
       "       'Refund Requested', 'Refund Reason', 'Refund Status', 'Refund Date',\n",
       "       'Notification Status', 'Product', 'Description'],\n",
       "      dtype='object')"
      ]
     },
     "execution_count": 2,
     "metadata": {},
     "output_type": "execute_result"
    }
   ],
   "source": [
    "\n",
    "# Load the mock dataset\n",
    "df = pd.read_csv('data/mock_dataset.csv')\n",
    "df.columns"
   ]
  },
  {
   "cell_type": "code",
   "execution_count": 3,
   "id": "f69cd659-13f5-40ad-98c1-af02c2d047d7",
   "metadata": {},
   "outputs": [
    {
     "name": "stdout",
     "output_type": "stream",
     "text": [
      "<class 'pandas.core.frame.DataFrame'>\n",
      "RangeIndex: 50 entries, 0 to 49\n",
      "Data columns (total 18 columns):\n",
      " #   Column                  Non-Null Count  Dtype \n",
      "---  ------                  --------------  ----- \n",
      " 0   Order ID                50 non-null     object\n",
      " 1   Tracking Number         50 non-null     int64 \n",
      " 2   Shipment Date           39 non-null     object\n",
      " 3   Expected Delivery Date  39 non-null     object\n",
      " 4   Delivery Date           19 non-null     object\n",
      " 5   Status                  50 non-null     object\n",
      " 6   Customer ID             50 non-null     object\n",
      " 7   Customer Name           50 non-null     object\n",
      " 8   Customer Email          50 non-null     object\n",
      " 9   Customer Phone          50 non-null     object\n",
      " 10  Order Date              50 non-null     object\n",
      " 11  Refund Requested        50 non-null     bool  \n",
      " 12  Refund Reason           17 non-null     object\n",
      " 13  Refund Status           17 non-null     object\n",
      " 14  Refund Date             12 non-null     object\n",
      " 15  Notification Status     50 non-null     bool  \n",
      " 16  Product                 50 non-null     object\n",
      " 17  Description             50 non-null     object\n",
      "dtypes: bool(2), int64(1), object(15)\n",
      "memory usage: 6.5+ KB\n"
     ]
    }
   ],
   "source": [
    "df.info()"
   ]
  },
  {
   "cell_type": "code",
   "execution_count": 4,
   "id": "25071c45-a58b-470d-bf58-e5cedbe61208",
   "metadata": {},
   "outputs": [],
   "source": [
    "# Define the columns we want to embed vs which ones we want in metadata\n",
    "columns_to_embed = [\"Product\",\"Description\"]\n",
    "columns_to_metadata = ['Order ID', 'Tracking Number', 'Shipment Date',\n",
    "       'Expected Delivery Date', 'Delivery Date', 'Status', 'Customer ID',\n",
    "       'Customer Name', 'Customer Email', 'Customer Phone', 'Order Date',\n",
    "       'Refund Requested', 'Refund Reason', 'Refund Status', 'Refund Date',\n",
    "       'Notification Status']"
   ]
  },
  {
   "cell_type": "code",
   "execution_count": 5,
   "id": "f0efc652-5658-480b-8ecf-ce3385913039",
   "metadata": {},
   "outputs": [],
   "source": [
    "# Process the CSV into the embedable content vs the metadata and put it into Document format so that we can chunk it into pieces.\n",
    "docs = []\n",
    "with open('data/mock_dataset.csv', newline=\"\", encoding='utf-8-sig') as csvfile:\n",
    "    csv_reader = csv.DictReader(csvfile)\n",
    "    for i, row in enumerate(csv_reader):\n",
    "        to_metadata = {col: row[col] for col in columns_to_metadata if col in row}\n",
    "        values_to_embed = {k: row[k] for k in columns_to_embed if k in row}\n",
    "        to_embed = \"\\n\".join(f\"{k.strip()}: {v.strip()}\" for k, v in values_to_embed.items())\n",
    "        newDoc = Document(page_content=to_embed, metadata=to_metadata)\n",
    "        docs.append(newDoc)"
   ]
  },
  {
   "cell_type": "code",
   "execution_count": 6,
   "id": "661313c1-691d-4762-8fb9-c002ba864e12",
   "metadata": {},
   "outputs": [],
   "source": [
    "# Lets split the document using Chracter splitting. \n",
    "splitter = CharacterTextSplitter(separator = \"\\n\",\n",
    "                                chunk_size=500, \n",
    "                                chunk_overlap=0,\n",
    "                                length_function=len)\n",
    "documents = splitter.split_documents(docs)"
   ]
  },
  {
   "cell_type": "code",
   "execution_count": 7,
   "id": "dd772761-e0a3-4ddc-b589-ff1393d440b4",
   "metadata": {},
   "outputs": [
    {
     "data": {
      "text/plain": [
       "Document(page_content='Product: Sports Eyeglasses\\nDescription: Durable frames designed for athletic use.', metadata={'Order ID': 'ORD1034', 'Tracking Number': '123456823', 'Shipment Date': '2024-04-19', 'Expected Delivery Date': '2024-04-22', 'Delivery Date': '2024-05-01', 'Status': 'cancel', 'Customer ID': 'CUST1034', 'Customer Name': 'Joseph Stafford', 'Customer Email': 'renee52@example.net', 'Customer Phone': '963-748-4179x64561', 'Order Date': '2024-03-19', 'Refund Requested': 'True', 'Refund Reason': 'Damaged Item', 'Refund Status': 'approved', 'Refund Date': '2024-05-07', 'Notification Status': 'False'})"
      ]
     },
     "execution_count": 7,
     "metadata": {},
     "output_type": "execute_result"
    }
   ],
   "source": [
    "documents[34]"
   ]
  },
  {
   "cell_type": "code",
   "execution_count": 8,
   "id": "f5dac327-b6a5-402f-940b-d18b5a0be605",
   "metadata": {},
   "outputs": [
    {
     "name": "stderr",
     "output_type": "stream",
     "text": [
      "/root/myenv/lib/python3.10/site-packages/langchain_core/_api/deprecation.py:119: LangChainDeprecationWarning: The class `OpenAIEmbeddings` was deprecated in LangChain 0.0.9 and will be removed in 0.3.0. An updated version of the class exists in the langchain-openai package and should be used instead. To use it run `pip install -U langchain-openai` and import as `from langchain_openai import OpenAIEmbeddings`.\n",
      "  warn_deprecated(\n"
     ]
    }
   ],
   "source": [
    "persist_directory = './data/chromadb3/'\n",
    "# Generate embeddings from documents and store in a vector database\n",
    "embeddings_model = OpenAIEmbeddings()\n",
    "db = Chroma.from_documents(documents, OpenAIEmbeddings(),persist_directory=persist_directory)"
   ]
  },
  {
   "cell_type": "code",
   "execution_count": 9,
   "id": "37bdc6fd-1b63-4600-988e-eb854945a26f",
   "metadata": {},
   "outputs": [],
   "source": [
    "from langchain.llms import OpenAI\n",
    "from langchain.retrievers.self_query.base import SelfQueryRetriever\n",
    "from langchain.chains.query_constructor.base import AttributeInfo"
   ]
  },
  {
   "cell_type": "code",
   "execution_count": 10,
   "id": "1785e910-fe27-4d55-aa5c-9dd2219bca5d",
   "metadata": {},
   "outputs": [],
   "source": [
    "metadata_field_info = [\n",
    "    AttributeInfo(\n",
    "        name=\"Order ID\",\n",
    "        description=\"Unique identifier for each order\",\n",
    "        type=\"string\",\n",
    "    ),\n",
    "    AttributeInfo(\n",
    "        name=\"Tracking Number\",\n",
    "        description=\"Tracking number associated with the shipment of the order\",\n",
    "        type=\"integer\",\n",
    "    ),\n",
    "    AttributeInfo(\n",
    "        name=\"Shipment Date\",\n",
    "        description=\"The date on which the order was shipped\",\n",
    "        type=\"date\",\n",
    "    ),\n",
    "    AttributeInfo(\n",
    "        name=\"Expected Delivery Date\",\n",
    "        description=\"The estimated date on which the order is expected to be delivered\",\n",
    "        type=\"date\",\n",
    "    ),\n",
    "    AttributeInfo(\n",
    "        name=\"Delivery Date\",\n",
    "        description=\"The actual date on which the order was delivered\",\n",
    "        type=\"date\",\n",
    "    ),\n",
    "    AttributeInfo(\n",
    "        name=\"Status\",\n",
    "        description=\"Current status of the order (e.g., pending, delivered, cancelled)\",\n",
    "        type=\"string\",\n",
    "    ),\n",
    "    AttributeInfo(\n",
    "        name=\"Customer ID\",\n",
    "        description=\"Unique identifier for the customer who placed the order\",\n",
    "        type=\"string\",\n",
    "    ),\n",
    "    AttributeInfo(\n",
    "        name=\"Customer Name\",\n",
    "        description=\"Name of the customer who placed the order\",\n",
    "        type=\"string\",\n",
    "    ),\n",
    "    AttributeInfo(\n",
    "        name=\"Customer Email\",\n",
    "        description=\"Email address of the customer\",\n",
    "        type=\"string\",\n",
    "    ),\n",
    "    AttributeInfo(\n",
    "        name=\"Customer Phone\",\n",
    "        description=\"Phone number of the customer\",\n",
    "        type=\"string\",\n",
    "    ),\n",
    "    AttributeInfo(\n",
    "        name=\"Order Date\",\n",
    "        description=\"The date on which the order was placed\",\n",
    "        type=\"date\",\n",
    "    ),\n",
    "    AttributeInfo(\n",
    "        name=\"Refund Requested\",\n",
    "        description=\"Indicates whether a refund was requested for the order\",\n",
    "        type=\"boolean\",\n",
    "    ),\n",
    "    AttributeInfo(\n",
    "        name=\"Refund Reason\",\n",
    "        description=\"The reason provided by the customer for requesting a refund\",\n",
    "        type=\"string\",\n",
    "    ),\n",
    "    AttributeInfo(\n",
    "        name=\"Refund Status\",\n",
    "        description=\"Current status of the refund request (e.g., approved, rejected)\",\n",
    "        type=\"string\",\n",
    "    ),\n",
    "    AttributeInfo(\n",
    "        name=\"Refund Date\",\n",
    "        description=\"The date on which the refund was processed\",\n",
    "        type=\"date\",\n",
    "    ),\n",
    "    AttributeInfo(\n",
    "        name=\"Notification Status\",\n",
    "        description=\"Indicates whether notifications related to the order are active\",\n",
    "        type=\"boolean\",\n",
    "    )\n",
    "]\n",
    "document_content_description = \"Customer order information including order details, customer details, refund information.\"\n"
   ]
  },
  {
   "cell_type": "markdown",
   "id": "5d157598-da31-435e-87af-c5f033e414c1",
   "metadata": {},
   "source": [
    "## SelfQ"
   ]
  },
  {
   "cell_type": "code",
   "execution_count": 12,
   "id": "59fddbd6-7242-44db-ba6e-cc6e84381be7",
   "metadata": {},
   "outputs": [
    {
     "name": "stderr",
     "output_type": "stream",
     "text": [
      "/root/myenv/lib/python3.10/site-packages/langchain_core/_api/deprecation.py:119: LangChainDeprecationWarning: The class `OpenAI` was deprecated in LangChain 0.0.10 and will be removed in 0.3.0. An updated version of the class exists in the langchain-openai package and should be used instead. To use it run `pip install -U langchain-openai` and import as `from langchain_openai import OpenAI`.\n",
      "  warn_deprecated(\n"
     ]
    }
   ],
   "source": [
    "# Configure retriver\n",
    "llm = OpenAI(temperature=0)\n",
    "retriever = SelfQueryRetriever.from_llm(\n",
    "    llm, db, document_content_description, metadata_field_info, verbose=True)"
   ]
  },
  {
   "cell_type": "code",
   "execution_count": 13,
   "id": "2855d550-85f3-4754-9cfb-0e27a38fd846",
   "metadata": {},
   "outputs": [
    {
     "name": "stderr",
     "output_type": "stream",
     "text": [
      "/root/myenv/lib/python3.10/site-packages/langchain_core/_api/deprecation.py:119: LangChainDeprecationWarning: The method `BaseRetriever.get_relevant_documents` was deprecated in langchain-core 0.1.46 and will be removed in 0.3.0. Use invoke instead.\n",
      "  warn_deprecated(\n"
     ]
    },
    {
     "data": {
      "text/plain": [
       "[Document(page_content='Product: Sports Eyeglasses\\nDescription: Durable frames designed for athletic use.', metadata={'Customer Email': 'renee52@example.net', 'Customer ID': 'CUST1034', 'Customer Name': 'Joseph Stafford', 'Customer Phone': '963-748-4179x64561', 'Delivery Date': '2024-05-01', 'Expected Delivery Date': '2024-04-22', 'Notification Status': 'False', 'Order Date': '2024-03-19', 'Order ID': 'ORD1034', 'Refund Date': '2024-05-07', 'Refund Reason': 'Damaged Item', 'Refund Requested': 'True', 'Refund Status': 'approved', 'Shipment Date': '2024-04-19', 'Status': 'cancel', 'Tracking Number': '123456823'})]"
      ]
     },
     "execution_count": 13,
     "metadata": {},
     "output_type": "execute_result"
    }
   ],
   "source": [
    "# Retrieve values\n",
    "retriever.get_relevant_documents(\"give me documentation about Order ID 'ORD1034' \")"
   ]
  },
  {
   "cell_type": "code",
   "execution_count": null,
   "id": "3729ab10-1165-4150-ba57-117701f201d8",
   "metadata": {},
   "outputs": [],
   "source": []
  }
 ],
 "metadata": {
  "kernelspec": {
   "display_name": "Python 3 (ipykernel)",
   "language": "python",
   "name": "python3"
  },
  "language_info": {
   "codemirror_mode": {
    "name": "ipython",
    "version": 3
   },
   "file_extension": ".py",
   "mimetype": "text/x-python",
   "name": "python",
   "nbconvert_exporter": "python",
   "pygments_lexer": "ipython3",
   "version": "3.10.12"
  }
 },
 "nbformat": 4,
 "nbformat_minor": 5
}
